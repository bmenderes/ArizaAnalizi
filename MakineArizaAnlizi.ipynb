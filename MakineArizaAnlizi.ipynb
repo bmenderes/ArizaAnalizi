{
  "nbformat": 4,
  "nbformat_minor": 0,
  "metadata": {
    "colab": {
      "provenance": [],
      "authorship_tag": "ABX9TyN4rZL6la3bQI86GF1qYrGu",
      "include_colab_link": true
    },
    "kernelspec": {
      "name": "python3",
      "display_name": "Python 3"
    },
    "language_info": {
      "name": "python"
    }
  },
  "cells": [
    {
      "cell_type": "markdown",
      "metadata": {
        "id": "view-in-github",
        "colab_type": "text"
      },
      "source": [
        "<a href=\"https://colab.research.google.com/github/bmenderes/ArizaAnalizi/blob/main/MakineArizaAnlizi.ipynb\" target=\"_parent\"><img src=\"https://colab.research.google.com/assets/colab-badge.svg\" alt=\"Open In Colab\"/></a>"
      ]
    },
    {
      "cell_type": "code",
      "execution_count": 1,
      "metadata": {
        "colab": {
          "base_uri": "https://localhost:8080/",
          "height": 17
        },
        "id": "sne_1k6w_crY",
        "outputId": "c02af236-6be9-4faa-ecf9-b3db23936604"
      },
      "outputs": [
        {
          "output_type": "display_data",
          "data": {
            "text/plain": [
              "<IPython.core.display.Javascript object>"
            ],
            "application/javascript": [
              "\n",
              "    async function download(id, filename, size) {\n",
              "      if (!google.colab.kernel.accessAllowed) {\n",
              "        return;\n",
              "      }\n",
              "      const div = document.createElement('div');\n",
              "      const label = document.createElement('label');\n",
              "      label.textContent = `Downloading \"${filename}\": `;\n",
              "      div.appendChild(label);\n",
              "      const progress = document.createElement('progress');\n",
              "      progress.max = size;\n",
              "      div.appendChild(progress);\n",
              "      document.body.appendChild(div);\n",
              "\n",
              "      const buffers = [];\n",
              "      let downloaded = 0;\n",
              "\n",
              "      const channel = await google.colab.kernel.comms.open(id);\n",
              "      // Send a message to notify the kernel that we're ready.\n",
              "      channel.send({})\n",
              "\n",
              "      for await (const message of channel.messages) {\n",
              "        // Send a message to notify the kernel that we're ready.\n",
              "        channel.send({})\n",
              "        if (message.buffers) {\n",
              "          for (const buffer of message.buffers) {\n",
              "            buffers.push(buffer);\n",
              "            downloaded += buffer.byteLength;\n",
              "            progress.value = downloaded;\n",
              "          }\n",
              "        }\n",
              "      }\n",
              "      const blob = new Blob(buffers, {type: 'application/binary'});\n",
              "      const a = document.createElement('a');\n",
              "      a.href = window.URL.createObjectURL(blob);\n",
              "      a.download = filename;\n",
              "      div.appendChild(a);\n",
              "      a.click();\n",
              "      div.remove();\n",
              "    }\n",
              "  "
            ]
          },
          "metadata": {}
        },
        {
          "output_type": "display_data",
          "data": {
            "text/plain": [
              "<IPython.core.display.Javascript object>"
            ],
            "application/javascript": [
              "download(\"download_bffa5e70-6d3f-4e44-95f8-8cacff5e7bf9\", \"makine_ariza_veri_seti.csv\", 16116)"
            ]
          },
          "metadata": {}
        }
      ],
      "source": [
        "# prompt: 'Zaman': 2023-11-20 ile 2023-11-27 tarihleri arasında rastgele 300 zaman noktası içeren bir zaman serisi\n",
        "# 'Vardiya': 1 ile 3 arasında rastgele vardiya numaraları\n",
        "# 'Durus_Suresi': 5 ile 120 dakika arasında rastgele duruş süresi\n",
        "# 'Ariza_Turu': 'mekanik', 'elektrik' veya 'hava' kategorilerinden rastgele seçilen arıza türleri\n",
        "# 'Ariza_Alt_Turu': 'parca asinmasi', 'kirilma', 'gevseme', 'sensor', 'kablo', 'haberlesme' kategorilerinden rastgele bir alt arıza türü\n",
        "# 'Etkilenen_Bolum': 1 ile 5 arasında rastgele etkilenen bölüm numaraları\n",
        "# Veri çerçevesini oluşturup bir makine_ariza_veri_seti.csv dosyasına kaydedecek bir Python kodu yazar mısın ?\n",
        "\n",
        "import pandas as pd\n",
        "import numpy as np\n",
        "import random\n",
        "\n",
        "# Tarih aralığı\n",
        "start_date = pd.to_datetime('2023-11-20')\n",
        "end_date = pd.to_datetime('2023-11-27')\n",
        "\n",
        "# Zaman noktaları\n",
        "time_points = pd.date_range(start=start_date, end=end_date, periods=300)\n",
        "\n",
        "# Veri çerçevesi oluşturma\n",
        "data = {\n",
        "    'Zaman': time_points,\n",
        "    'Vardiya': np.random.randint(1, 4, size=300),\n",
        "    'Durus_Suresi': np.random.randint(5, 121, size=300),\n",
        "    'Ariza_Turu': np.random.choice(['mekanik', 'elektrik', 'hava'], size=300),\n",
        "    'Ariza_Alt_Turu': np.random.choice(['parca asinmasi', 'kirilma', 'gevseme', 'sensor', 'kablo', 'haberlesme'], size=300),\n",
        "    'Etkilenen_Bolum': np.random.randint(1, 6, size=300)\n",
        "}\n",
        "\n",
        "df = pd.DataFrame(data)\n",
        "\n",
        "# CSV dosyasına kaydetme\n",
        "df.to_csv('makine_ariza_veri_seti.csv', index=False)\n",
        "\n",
        "# Dosyayı indirme\n",
        "from google.colab import files\n",
        "files.download('makine_ariza_veri_seti.csv')\n"
      ]
    },
    {
      "cell_type": "code",
      "source": [
        "# prompt: Root Mean Squared Error\n",
        "# Veri setindeki ortalama duruş süresi\n",
        "# Mean Absolute Error (MAE)\n",
        "# Örnek bir veri için rasgele bir (np.random.seed) veri için tahmin edilen duruş zamanı(tarih formatında tahminleme veri setinde yer alan son tarihten sonrası olacak şekilde),\n",
        "# vardiyası, duruş süresi, arıza türü, ariza alt türü, ve etkilenen bölümü görüntüleyebilecegim bir kod oluşturur musun\n",
        "\n",
        "import pandas as pd\n",
        "import numpy as np\n",
        "from sklearn.metrics import mean_squared_error, mean_absolute_error\n",
        "\n",
        "# Örnek veri (önceki koddan oluşturulan CSV dosyasını yükleyin)\n",
        "df = pd.read_csv('makine_ariza_veri_seti.csv')\n",
        "\n",
        "# Ortalama duruş süresi\n",
        "ortalama_durus_suresi = df['Durus_Suresi'].mean()\n",
        "print(f\"Ortalama Duruş Süresi: {ortalama_durus_suresi}\")\n",
        "\n",
        "# RMSE ve MAE hesaplama için örnek bir tahmin oluşturma\n",
        "np.random.seed(42)  # Rastgele sayı üretecinin başlangıç değerini ayarla\n",
        "df['Tahmin_Edilen_Durus_Suresi'] = np.random.randint(5, 121, size=len(df))\n",
        "\n",
        "rmse = np.sqrt(mean_squared_error(df['Durus_Suresi'], df['Tahmin_Edilen_Durus_Suresi']))\n",
        "mae = mean_absolute_error(df['Durus_Suresi'], df['Tahmin_Edilen_Durus_Suresi'])\n",
        "\n",
        "print(f\"RMSE: {rmse}\")\n",
        "print(f\"MAE: {mae}\")\n",
        "\n",
        "\n",
        "# Tahmin edilen duruş zamanı (son tarihten sonraki bir tarih)\n",
        "last_date = pd.to_datetime(df['Zaman'].max())\n",
        "tahmin_tarihi = last_date + pd.DateOffset(days=1)\n",
        "\n",
        "# Örnek bir veri için bilgiler\n",
        "ornek_veri_index = 0  # Örnek olarak ilk satırı alıyoruz. İstediğiniz bir satırı seçebilirsiniz.\n",
        "ornek_veri = df.iloc[ornek_veri_index]\n",
        "\n",
        "print(\"\\nÖrnek Veri:\")\n",
        "print(f\"Tahmin Tarihi: {tahmin_tarihi.strftime('%Y-%m-%d')}\")\n",
        "print(f\"Vardiya: {ornek_veri['Vardiya']}\")\n",
        "print(f\"Duruş Süresi: {ornek_veri['Durus_Suresi']}\")\n",
        "print(f\"Arıza Türü: {ornek_veri['Ariza_Turu']}\")\n",
        "print(f\"Arıza Alt Türü: {ornek_veri['Ariza_Alt_Turu']}\")\n",
        "print(f\"Etkilenen Bölüm: {ornek_veri['Etkilenen_Bolum']}\")\n"
      ],
      "metadata": {
        "id": "S61lbMh3ALKd",
        "outputId": "ef5142de-3c53-4ff0-fbd8-31eee6402681",
        "colab": {
          "base_uri": "https://localhost:8080/"
        }
      },
      "execution_count": null,
      "outputs": [
        {
          "output_type": "stream",
          "name": "stdout",
          "text": [
            "Ortalama Duruş Süresi: 62.48\n",
            "RMSE: 47.439997189432184\n",
            "MAE: 39.346666666666664\n",
            "\n",
            "Örnek Veri:\n",
            "Tahmin Tarihi: 2023-11-28\n",
            "Vardiya: 3\n",
            "Duruş Süresi: 90\n",
            "Arıza Türü: elektrik\n",
            "Arıza Alt Türü: kablo\n",
            "Etkilenen Bölüm: 5\n"
          ]
        }
      ]
    },
    {
      "cell_type": "code",
      "source": [
        "# prompt: şimdi makine öğrenmesi kullanarak bu tahminlemeyi yapabilecegim Random Forest Regressor modelini kullanarak önce eğitip daha sonra aşağıdaki tahminlemeleri yapar mısın ?\n",
        "# Ayrıca sonuçlar ekranında numerik olarak verilmiş ifadelerin kategorik karşılıklarının olduğu bir tablo da hazirlar misin ? Lütfen önce kodu kendi içerisinde çalıştırıp doğruluğunu kontrol et.\n",
        "# Root Mean Squared Error\n",
        "# Veri setindeki ortalama duruş süresi\n",
        "# Mean Absolute Error (MAE)\n",
        "# Örnek bir veri için tahmin edilen duruş zamanı(tarih formatında tahminleme veri setinde yer alan son tarihten sonrası olacak şekilde),\n",
        "# vardiyası, duruş süresi, arıza türü, ariza alt türü, ve etkilenen bölümü görüntüleyebilecegim bir kod oluşturur musun\n",
        "\n",
        "import pandas as pd\n",
        "import numpy as np\n",
        "from sklearn.model_selection import train_test_split\n",
        "from sklearn.ensemble import RandomForestRegressor\n",
        "from sklearn.metrics import mean_squared_error, mean_absolute_error\n",
        "from sklearn.preprocessing import LabelEncoder\n",
        "\n",
        "# Veri setini yükle\n",
        "df = pd.read_csv('makine_ariza_veri_seti.csv')\n",
        "\n",
        "# Tarih sütununu datetime tipine dönüştür\n",
        "df['Zaman'] = pd.to_datetime(df['Zaman'])\n",
        "\n",
        "# Kategorik değişkenleri sayısal hale dönüştürme\n",
        "label_encoders = {}\n",
        "for column in ['Ariza_Turu', 'Ariza_Alt_Turu']:\n",
        "    le = LabelEncoder()\n",
        "    df[column] = le.fit_transform(df[column])\n",
        "    label_encoders[column] = le\n",
        "\n",
        "# Özellik ve hedef değişkenleri ayırma\n",
        "X = df[['Vardiya', 'Ariza_Turu', 'Ariza_Alt_Turu', 'Etkilenen_Bolum']]\n",
        "y = df['Durus_Suresi']\n",
        "\n",
        "# Veri setini eğitim ve test kümelerine ayırma\n",
        "X_train, X_test, y_train, y_test = train_test_split(X, y, test_size=0.2, random_state=42)\n",
        "\n",
        "# Random Forest Regressor modelini eğitme\n",
        "rf_model = RandomForestRegressor(n_estimators=100, random_state=42)\n",
        "rf_model.fit(X_train, y_train)\n",
        "\n",
        "# Tahminler yapma\n",
        "y_pred = rf_model.predict(X_test)\n",
        "\n",
        "# Performans ölçümleri\n",
        "rmse = np.sqrt(mean_squared_error(y_test, y_pred))\n",
        "mae = mean_absolute_error(y_test, y_pred)\n",
        "\n",
        "print(f\"RMSE: {rmse}\")\n",
        "print(f\"MAE: {mae}\")\n",
        "print(f\"Ortalama Duruş Süresi: {df['Durus_Suresi'].mean()}\")\n",
        "\n",
        "# Örnek bir veri için tahmin\n",
        "ornek_veri = pd.DataFrame({'Vardiya': [3], 'Ariza_Turu': [label_encoders['Ariza_Turu'].transform(['mekanik'])[0]], 'Ariza_Alt_Turu': [label_encoders['Ariza_Alt_Turu'].transform(['parca asinmasi'])[0]], 'Etkilenen_Bolum': [2]})\n",
        "tahmin_edilen_durus_suresi = rf_model.predict(ornek_veri)[0]\n",
        "last_date = pd.to_datetime(df['Zaman'].max())\n",
        "tahmin_tarihi = last_date + pd.DateOffset(days=1)\n",
        "\n",
        "print(f\"\\nÖrnek Veri için Tahmin Edilen Duruş Süresi: {tahmin_edilen_durus_suresi}\")\n",
        "print(f\"Tahmin Tarihi: {tahmin_tarihi.strftime('%Y-%m-%d')}\")\n",
        "print(f\"Vardiya: 3\")\n",
        "print(f\"Arıza Türü: mekanik\")\n",
        "print(f\"Arıza Alt Türü: parca asinmasi\")\n",
        "print(f\"Etkilenen Bölüm: 2\")\n",
        "\n",
        "\n",
        "# Kategorik Değişken Karşılıkları\n",
        "print(\"\\nKategorik Değişken Karşılıkları:\")\n",
        "for column, le in label_encoders.items():\n",
        "    print(f\"\\n{column}:\")\n",
        "    print(pd.DataFrame({'Sayısal': le.transform(le.classes_), 'Kategorik': le.classes_}))\n"
      ],
      "metadata": {
        "id": "JrOKIInDF6Ob",
        "outputId": "63013982-0762-4bdb-f4a3-fa523929d9a6",
        "colab": {
          "base_uri": "https://localhost:8080/"
        }
      },
      "execution_count": 4,
      "outputs": [
        {
          "output_type": "stream",
          "name": "stdout",
          "text": [
            "RMSE: 38.503367702417044\n",
            "MAE: 31.824727489177487\n",
            "Ortalama Duruş Süresi: 61.20333333333333\n",
            "\n",
            "Örnek Veri için Tahmin Edilen Duruş Süresi: 36.007000000000005\n",
            "Tahmin Tarihi: 2023-11-28\n",
            "Vardiya: 3\n",
            "Arıza Türü: mekanik\n",
            "Arıza Alt Türü: parca asinmasi\n",
            "Etkilenen Bölüm: 2\n",
            "\n",
            "Kategorik Değişken Karşılıkları:\n",
            "\n",
            "Ariza_Turu:\n",
            "   Sayısal Kategorik\n",
            "0        0  elektrik\n",
            "1        1      hava\n",
            "2        2   mekanik\n",
            "\n",
            "Ariza_Alt_Turu:\n",
            "   Sayısal       Kategorik\n",
            "0        0         gevseme\n",
            "1        1      haberlesme\n",
            "2        2           kablo\n",
            "3        3         kirilma\n",
            "4        4  parca asinmasi\n",
            "5        5          sensor\n"
          ]
        }
      ]
    },
    {
      "cell_type": "code",
      "source": [
        "import pandas as pd\n",
        "\n",
        "# Veri setini yükleme\n",
        "file_path = \"makine_ariza_veri_seti.csv\"  # Dosya adınızı buraya yazın\n",
        "df = pd.read_csv(file_path)\n",
        "\n",
        "# \"mekanik\" ve \"parca asinmasi\" filtreleme\n",
        "mekanik_parca_asinmasi = df[\n",
        "    (df[\"Ariza_Turu\"] == \"mekanik\") & (df[\"Ariza_Alt_Turu\"] == \"parca asinmasi\")\n",
        "]\n",
        "mekanik_arizalar = df[df[\"Ariza_Turu\"] == \"mekanik\"]\n",
        "\n",
        "# Ortalama duruş süresi hesaplama\n",
        "ortalama_durus_suresi1 = mekanik_parca_asinmasi[\"Durus_Suresi\"].mean()\n",
        "ortalama_durus_suresi2 = mekanik_arizalar[\"Durus_Suresi\"].mean()\n",
        "\n",
        "print(\"Mekanik parça aşınması kaynaklı ortalama duruş süresi:\", ortalama_durus_suresi1)\n",
        "print(\"Mekanik arızalar kaynaklı ortalama duruş süresi:\", ortalama_durus_suresi2)"
      ],
      "metadata": {
        "id": "6-IfCuTOKgrH",
        "outputId": "88d3b2ad-dee5-48c6-a73a-2f277028c076",
        "colab": {
          "base_uri": "https://localhost:8080/"
        }
      },
      "execution_count": 7,
      "outputs": [
        {
          "output_type": "stream",
          "name": "stdout",
          "text": [
            "Mekanik parça aşınması kaynaklı ortalama duruş süresi: 56.25\n",
            "Mekanik arızalar kaynaklı ortalama duruş süresi: 58.663716814159294\n"
          ]
        }
      ]
    }
  ]
}